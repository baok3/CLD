{
 "cells": [
  {
   "cell_type": "code",
   "execution_count": 4,
   "metadata": {},
   "outputs": [
    {
     "name": "stdout",
     "output_type": "stream",
     "text": [
      "Dataset split completed successfully!\n"
     ]
    }
   ],
   "source": [
    "import os\n",
    "import shutil\n",
    "import random\n",
    "\n",
    "# Define paths\n",
    "dataset_dir = \"D:\\Capstone Project\\Leaf_coffe_augmented\"\n",
    "output_dir = \"D:\\Capstone Project\\Final coffee leaf_Dataset\"\n",
    "categories = [\"Cerscospora\", \"Healthy\", \"Miner\", \"Phoma\", \"Leaf rust\"]\n",
    "\n",
    "# Create train, val, and test folders\n",
    "for split in [\"train\", \"val\", \"test\"]:\n",
    "    for category in categories:\n",
    "        os.makedirs(os.path.join(output_dir, split, category), exist_ok=True)\n",
    "\n",
    "# Train/Val split ratio\n",
    "train_ratio = 0.8\n",
    "val_ratio = 0.1\n",
    "test_ratio = 0.1  # Only applies to original images\n",
    "\n",
    "# Process each category\n",
    "for category in categories:\n",
    "    category_path = os.path.join(dataset_dir, category)\n",
    "    images = [img for img in os.listdir(category_path) if img.lower().endswith(('.png', '.jpg', '.jpeg'))]\n",
    "\n",
    "    # Identify original images (without \"_aug\" in name)\n",
    "    original_images = [img for img in images if \"aug_\" not in img]\n",
    "    augmented_images = [img for img in images if \"aug_\" in img]\n",
    "\n",
    "    # Shuffle images for randomness\n",
    "    random.shuffle(original_images)\n",
    "    random.shuffle(augmented_images)\n",
    "\n",
    "    # Split original images: 10% to test set\n",
    "    num_test = int(test_ratio * len(images))  # 10% of total dataset (original only)\n",
    "    test_images = original_images[:num_test]  # First 10% go to test set\n",
    "\n",
    "    for img in test_images:\n",
    "        shutil.copy(os.path.join(category_path, img), os.path.join(output_dir, \"test\", category, img))\n",
    "\n",
    "    # Combine remaining original + augmented images for train/val split\n",
    "    remaining_images = original_images[num_test:] + augmented_images  # Remove test images from originals\n",
    "\n",
    "    # Shuffle again before final split\n",
    "    random.shuffle(remaining_images)\n",
    "\n",
    "    num_train = int(train_ratio * len(remaining_images))\n",
    "    num_val = len(remaining_images) - num_train  # Remaining go to validation\n",
    "\n",
    "    # Move images to respective folders\n",
    "    for img in remaining_images[:num_train]:\n",
    "        shutil.copy(os.path.join(category_path, img), os.path.join(output_dir, \"train\", category, img))\n",
    "\n",
    "    for img in remaining_images[num_train:]:\n",
    "        shutil.copy(os.path.join(category_path, img), os.path.join(output_dir, \"val\", category, img))\n",
    "\n",
    "print(\"Dataset split completed successfully!\")\n"
   ]
  },
  {
   "cell_type": "code",
   "execution_count": 5,
   "metadata": {},
   "outputs": [
    {
     "name": "stdout",
     "output_type": "stream",
     "text": [
      "Dataset distribution corrected to exact 80/10/10!\n"
     ]
    }
   ],
   "source": [
    "import os\n",
    "import shutil\n",
    "import random\n",
    "\n",
    "# Define paths\n",
    "dataset_dir = \"D:\\Capstone Project\\Leaf_coffe_dataset\"\n",
    "output_dir = \"D:\\Capstone Project\\Final coffee leaf_Dataset\"\n",
    "categories = [\"Cerscospora\", \"Healthy\", \"Miner\", \"Phoma\", \"Leaf rust\"]\n",
    "\n",
    "# Create train, val, and test folders\n",
    "for split in [\"train\", \"val\", \"test\"]:\n",
    "    for category in categories:\n",
    "        os.makedirs(os.path.join(output_dir, split, category), exist_ok=True)\n",
    "\n",
    "# Existing dataset distribution per class\n",
    "CURRENT_TRAIN = 21600\n",
    "CURRENT_VAL = 5400\n",
    "CURRENT_TEST = 3000  # Already correct\n",
    "\n",
    "# Desired distribution per class\n",
    "DESIRED_TRAIN = 24000\n",
    "DESIRED_VAL = 3000\n",
    "DESIRED_TEST = 3000  # No change\n",
    "\n",
    "# Process each category\n",
    "for category in categories:\n",
    "    train_path = os.path.join(output_dir, \"train\", category)\n",
    "    val_path = os.path.join(output_dir, \"val\", category)\n",
    "\n",
    "    # Get existing images\n",
    "    train_images = os.listdir(train_path)\n",
    "    val_images = os.listdir(val_path)\n",
    "\n",
    "    # Move 2,400 images from val to train\n",
    "    random.shuffle(val_images)\n",
    "    move_to_train = val_images[:(DESIRED_TRAIN - CURRENT_TRAIN)]\n",
    "    new_val_images = val_images[(DESIRED_TRAIN - CURRENT_TRAIN):]  # Remaining for val\n",
    "\n",
    "    for img in move_to_train:\n",
    "        shutil.move(os.path.join(val_path, img), os.path.join(train_path, img))\n",
    "\n",
    "    # Ensure only 3,000 images remain in val\n",
    "    for img in new_val_images[:DESIRED_VAL]:\n",
    "        shutil.move(os.path.join(val_path, img), os.path.join(output_dir, \"val\", category, img))\n",
    "\n",
    "print(\"Dataset distribution corrected to exact 80/10/10!\")\n"
   ]
  }
 ],
 "metadata": {
  "kernelspec": {
   "display_name": "coffe_leaf_project",
   "language": "python",
   "name": "python3"
  },
  "language_info": {
   "codemirror_mode": {
    "name": "ipython",
    "version": 3
   },
   "file_extension": ".py",
   "mimetype": "text/x-python",
   "name": "python",
   "nbconvert_exporter": "python",
   "pygments_lexer": "ipython3",
   "version": "3.9.21"
  }
 },
 "nbformat": 4,
 "nbformat_minor": 2
}
