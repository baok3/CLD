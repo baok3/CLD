{
 "cells": [
  {
   "cell_type": "code",
   "execution_count": 1,
   "metadata": {},
   "outputs": [
    {
     "name": "stdout",
     "output_type": "stream",
     "text": [
      "ORIGINAL DATASET:\n",
      "  Class 'Cerscospora': 7681 images\n",
      "  Class 'Healthy': 18984 images\n",
      "  Class 'Leaf rust': 8336 images\n",
      "  Class 'Miner': 16978 images\n",
      "  Class 'Phoma': 6571 images\n"
     ]
    }
   ],
   "source": [
    "import os\n",
    "\n",
    "# Path to your original dataset (before splitting)\n",
    "dataset_path = r\"E:\\CLD_project\\CLD_dataset\"\n",
    "\n",
    "# Dictionary to store image counts\n",
    "image_counts = {}\n",
    "\n",
    "# Loop through class folders\n",
    "for cls in os.listdir(dataset_path):\n",
    "    class_folder = os.path.join(dataset_path, cls)\n",
    "    if os.path.isdir(class_folder):\n",
    "        image_counts[cls] = len([f for f in os.listdir(class_folder) if f.lower().endswith(('.png', '.jpg', '.jpeg'))])\n",
    "\n",
    "# Print results\n",
    "print(\"ORIGINAL DATASET:\")\n",
    "for cls, count in image_counts.items():\n",
    "    print(f\"  Class '{cls}': {count} images\")\n"
   ]
  }
 ],
 "metadata": {
  "kernelspec": {
   "display_name": "coffe_leaf_project",
   "language": "python",
   "name": "python3"
  },
  "language_info": {
   "codemirror_mode": {
    "name": "ipython",
    "version": 3
   },
   "file_extension": ".py",
   "mimetype": "text/x-python",
   "name": "python",
   "nbconvert_exporter": "python",
   "pygments_lexer": "ipython3",
   "version": "3.9.21"
  }
 },
 "nbformat": 4,
 "nbformat_minor": 2
}
