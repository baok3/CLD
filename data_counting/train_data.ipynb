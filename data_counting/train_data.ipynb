{
 "cells": [
  {
   "cell_type": "code",
   "execution_count": 1,
   "metadata": {},
   "outputs": [
    {
     "name": "stdout",
     "output_type": "stream",
     "text": [
      "\n",
      "TRAIN SET:\n",
      "  Class 'Cerscospora': 25000 images\n",
      "  Class 'Healthy': 24999 images\n",
      "  Class 'Leaf rust': 25000 images\n",
      "  Class 'Miner': 25000 images\n",
      "  Class 'Phoma': 25000 images\n",
      "\n",
      "VAL SET:\n",
      "  Class 'Cerscospora': 5000 images\n",
      "  Class 'Healthy': 5000 images\n",
      "  Class 'Leaf rust': 5000 images\n",
      "  Class 'Miner': 5000 images\n",
      "  Class 'Phoma': 5000 images\n",
      "\n",
      "TEST SET:\n",
      "  Class 'Cerscospora': 769 images\n",
      "  Class 'Healthy': 1899 images\n",
      "  Class 'Leaf rust': 835 images\n",
      "  Class 'Miner': 1699 images\n",
      "  Class 'Phoma': 658 images\n"
     ]
    }
   ],
   "source": [
    "import os\n",
    "\n",
    "# Path to your dataset\n",
    "dataset_path = r\"E:\\CLD_project\\Final_CLD_data\"\n",
    "\n",
    "# Subdirectories for train, val, and test\n",
    "splits = ['train', 'val', 'test']\n",
    "\n",
    "# Dictionary to store image counts\n",
    "image_counts = {}\n",
    "\n",
    "for split in splits:\n",
    "    split_path = os.path.join(dataset_path, split)\n",
    "    if os.path.exists(split_path):\n",
    "        image_counts[split] = {}\n",
    "        for cls in os.listdir(split_path):\n",
    "            class_folder = os.path.join(split_path, cls)\n",
    "            if os.path.isdir(class_folder):\n",
    "                image_counts[split][cls] = len([f for f in os.listdir(class_folder) if f.lower().endswith(('.png', '.jpg', '.jpeg'))])\n",
    "\n",
    "# Print results\n",
    "for split, classes in image_counts.items():\n",
    "    print(f\"\\n{split.upper()} SET:\")\n",
    "    for cls, count in classes.items():\n",
    "        print(f\"  Class '{cls}': {count} images\")"
   ]
  },
  {
   "cell_type": "code",
   "execution_count": 1,
   "metadata": {},
   "outputs": [
    {
     "name": "stdout",
     "output_type": "stream",
     "text": [
      "\n",
      "TOTAL IMAGE COUNTS:\n",
      "  TRAIN set: 124999 images\n",
      "  VAL set: 25000 images\n",
      "  TEST set: 5860 images\n"
     ]
    }
   ],
   "source": [
    "import os\n",
    "\n",
    "# Path to your dataset after splitting\n",
    "dataset_path = r\"E:\\CLD_project\\Final_CLD_data\"\n",
    "\n",
    "# Subfolders representing train, val, and test sets\n",
    "splits = [\"train\", \"val\", \"test\"]\n",
    "\n",
    "# Dictionary to store total image counts per split\n",
    "total_counts = {split: 0 for split in splits}\n",
    "\n",
    "# Loop through train, val, and test sets\n",
    "for split in splits:\n",
    "    split_folder = os.path.join(dataset_path, split)\n",
    "    \n",
    "    if not os.path.exists(split_folder):\n",
    "        print(f\"Warning: {split_folder} does not exist!\")\n",
    "        continue\n",
    "    \n",
    "    for cls in os.listdir(split_folder):\n",
    "        class_folder = os.path.join(split_folder, cls)\n",
    "        if os.path.isdir(class_folder):\n",
    "            total_counts[split] += len([\n",
    "                f for f in os.listdir(class_folder) if f.lower().endswith(('.png', '.jpg', '.jpeg'))\n",
    "            ])\n",
    "\n",
    "# Print results\n",
    "print(\"\\nTOTAL IMAGE COUNTS:\")\n",
    "for split, count in total_counts.items():\n",
    "    print(f\"  {split.upper()} set: {count} images\")"
   ]
  }
 ],
 "metadata": {
  "kernelspec": {
   "display_name": "coffe_leaf_project",
   "language": "python",
   "name": "python3"
  },
  "language_info": {
   "codemirror_mode": {
    "name": "ipython",
    "version": 3
   },
   "file_extension": ".py",
   "mimetype": "text/x-python",
   "name": "python",
   "nbconvert_exporter": "python",
   "pygments_lexer": "ipython3",
   "version": "3.9.21"
  }
 },
 "nbformat": 4,
 "nbformat_minor": 2
}
