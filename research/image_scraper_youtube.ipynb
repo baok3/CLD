{
 "cells": [
  {
   "cell_type": "code",
   "execution_count": 14,
   "metadata": {},
   "outputs": [],
   "source": [
    "import os\n",
    "import cv2\n",
    "import yt_dlp\n",
    "import hashlib\n",
    "import time\n",
    "from datetime import datetime, timedelta"
   ]
  },
  {
   "cell_type": "code",
   "execution_count": 26,
   "metadata": {},
   "outputs": [
    {
     "name": "stdout",
     "output_type": "stream",
     "text": [
      "Successfully extracted 119 frames to: ../nematode_disease_in_coffee_leaf_images\n"
     ]
    }
   ],
   "source": [
    "def time_str_to_seconds(time_str):\n",
    "    \"\"\"Convert time string (MM:SS or HH:MM:SS) to seconds\"\"\"\n",
    "    try:\n",
    "        parts = list(map(int, time_str.split(':')))\n",
    "        if len(parts) == 2:  # MM:SS format\n",
    "            return parts[0] * 60 + parts[1]\n",
    "        elif len(parts) == 3:  # HH:MM:SS format\n",
    "            return parts[0] * 3600 + parts[1] * 60 + parts[2]\n",
    "        else:\n",
    "            raise ValueError(\"Invalid time format\")\n",
    "    except:\n",
    "        raise ValueError(\"Time must be in MM:SS or HH:MM:SS format\")\n",
    "\n",
    "def generate_filename():\n",
    "    \"\"\"Generate a unique filename using timestamp hash\"\"\"\n",
    "    timestamp = str(time.time()).encode('utf-8')\n",
    "    random_hash = hashlib.md5(timestamp).hexdigest()[:21]\n",
    "    return f'youtube_{random_hash}.jpg'\n",
    "\n",
    "def download_and_extract_frames_range(youtube_url, timestamp_first, timestamp_last, output_dir, interval_seconds=10):\n",
    "    \"\"\"\n",
    "    Download YouTube video and extract frames between specified timestamps at 10-second intervals\n",
    "    \n",
    "    Args:\n",
    "        youtube_url (str): YouTube video URL\n",
    "        timestamp_first (str): Start time in MM:SS or HH:MM:SS format\n",
    "        timestamp_last (str): End time in MM:SS or HH:MM:SS format\n",
    "        output_dir (str): Directory to save extracted frames\n",
    "        interval_seconds (int): Interval between frames in seconds (default: 10)\n",
    "    \"\"\"\n",
    "    temp_dir = 'temp_video'\n",
    "    temp_video = None\n",
    "    cap = None\n",
    "\n",
    "    try:\n",
    "        # Convert timestamps to seconds\n",
    "        start_seconds = time_str_to_seconds(timestamp_first)\n",
    "        end_seconds = time_str_to_seconds(timestamp_last)\n",
    "        \n",
    "        if start_seconds >= end_seconds:\n",
    "            raise ValueError(\"End time must be after start time\")\n",
    "\n",
    "        # Create directories\n",
    "        os.makedirs(temp_dir, exist_ok=True)\n",
    "        os.makedirs(output_dir, exist_ok=True)\n",
    "\n",
    "        # Configure yt-dlp\n",
    "        ydl_opts = {\n",
    "            'format': 'best[ext=mp4]',\n",
    "            'outtmpl': os.path.join(temp_dir, '%(id)s.%(ext)s'),\n",
    "            'quiet': True\n",
    "        }\n",
    "\n",
    "        # Download video\n",
    "        with yt_dlp.YoutubeDL(ydl_opts) as ydl:\n",
    "            info = ydl.extract_info(youtube_url, download=True)\n",
    "            temp_video = os.path.join(temp_dir, f\"{info['id']}.mp4\")\n",
    "\n",
    "            # Open video with OpenCV\n",
    "            cap = cv2.VideoCapture(temp_video)\n",
    "            if not cap.isOpened():\n",
    "                raise RuntimeError(\"Failed to open video file\")\n",
    "\n",
    "            # Get video properties\n",
    "            fps = cap.get(cv2.CAP_PROP_FPS)\n",
    "            if fps <= 0:\n",
    "                raise ValueError(\"Could not determine video FPS\")\n",
    "                \n",
    "            total_frames = int(cap.get(cv2.CAP_PROP_FRAME_COUNT))\n",
    "            duration = total_frames / fps\n",
    "\n",
    "            # Validate timestamps\n",
    "            if end_seconds > duration:\n",
    "                raise ValueError(f\"End time exceeds video duration ({duration:.1f} seconds)\")\n",
    "\n",
    "            # Extract frames at specified intervals\n",
    "            current_second = start_seconds\n",
    "            frames_extracted = 0\n",
    "            \n",
    "            while current_second <= end_seconds:\n",
    "                # Set frame position\n",
    "                frame_pos = int(current_second * fps)\n",
    "                if frame_pos >= total_frames:\n",
    "                    break\n",
    "                    \n",
    "                cap.set(cv2.CAP_PROP_POS_FRAMES, frame_pos)\n",
    "                ret, frame = cap.read()\n",
    "                \n",
    "                if not ret:\n",
    "                    print(f\"Warning: Could not read frame at {current_second} seconds\")\n",
    "                    break\n",
    "\n",
    "                # Save frame\n",
    "                filename = generate_filename()\n",
    "                output_path = os.path.join(output_dir, filename)\n",
    "                cv2.imwrite(output_path, frame)\n",
    "                frames_extracted += 1\n",
    "\n",
    "                # Move to next interval\n",
    "                current_second += interval_seconds\n",
    "\n",
    "            print(f\"Successfully extracted {frames_extracted} frames to: {output_dir}\")\n",
    "\n",
    "    except ValueError as e:\n",
    "        print(f\"Error: {str(e)}\")\n",
    "    except Exception as e:\n",
    "        print(f\"Error: {str(e)}\")\n",
    "    finally:\n",
    "        # Cleanup\n",
    "        if cap is not None:\n",
    "            cap.release()\n",
    "        if temp_video and os.path.exists(temp_video):\n",
    "            os.remove(temp_video)\n",
    "        if os.path.exists(temp_dir):\n",
    "            os.rmdir(temp_dir)\n",
    "\n",
    "# Example usage:\n",
    "if __name__ == \"__main__\":\n",
    "    youtube_url = \"https://www.youtube.com/watch?v=O-8SUgKFHL8\"\n",
    "    timestamp_first = \"0:00\"  # Start time (MM:SS)\n",
    "    timestamp_last = \"19:40\"   # End time (MM:SS)\n",
    "    output_dir = '../nematode_disease_in_coffee_leaf_images'\n",
    "    \n",
    "    download_and_extract_frames_range(youtube_url, timestamp_first, timestamp_last, output_dir)"
   ]
  },
  {
   "cell_type": "code",
   "execution_count": 28,
   "metadata": {},
   "outputs": [
    {
     "name": "stdout",
     "output_type": "stream",
     "text": [
      "Total frames extracted: 176\n"
     ]
    }
   ],
   "source": [
    "# Count all the images in the directory with youtube_.jpg\n",
    "\n",
    "def count_frames_in_dir(directory):\n",
    "    \"\"\"Count all the images in the directory with youtube_.jpg\"\"\"\n",
    "    return len([f for f in os.listdir(directory) if f.startswith('youtube_')])\n",
    "\n",
    "path = '../nematode_disease_in_coffee_leaf_images'\n",
    "print(f\"Total frames extracted: {count_frames_in_dir(path)}\")"
   ]
  },
  {
   "cell_type": "code",
   "execution_count": 17,
   "metadata": {},
   "outputs": [
    {
     "name": "stdout",
     "output_type": "stream",
     "text": [
      "Deleted all frames in directory: ../nematode_disease_in_coffee_leaf_images\n"
     ]
    }
   ],
   "source": [
    "# Delete all the images in the directory with youtube_.jpg\n",
    "\n",
    "def delete_frames_in_dir(directory):\n",
    "    \"\"\"Delete all the images in the directory with youtube_.jpg\"\"\"\n",
    "    for f in os.listdir(directory):\n",
    "        if f.startswith('youtube_'):\n",
    "            os.remove(os.path.join(directory, f))\n",
    "\n",
    "delete_frames_in_dir(path)\n",
    "print(f\"Deleted all frames in directory: {path}\")"
   ]
  }
 ],
 "metadata": {
  "kernelspec": {
   "display_name": "Python 3",
   "language": "python",
   "name": "python3"
  },
  "language_info": {
   "codemirror_mode": {
    "name": "ipython",
    "version": 3
   },
   "file_extension": ".py",
   "mimetype": "text/x-python",
   "name": "python",
   "nbconvert_exporter": "python",
   "pygments_lexer": "ipython3",
   "version": "3.11.10"
  }
 },
 "nbformat": 4,
 "nbformat_minor": 2
}
