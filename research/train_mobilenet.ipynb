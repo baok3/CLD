{
 "cells": [
  {
   "cell_type": "code",
   "execution_count": 5,
   "metadata": {},
   "outputs": [],
   "source": [
    "import os\n",
    "import tensorflow as tf\n",
    "import numpy as np\n",
    "from tensorflow.keras.preprocessing.image import ImageDataGenerator\n",
    "from tensorflow.keras.applications import MobileNetV2\n",
    "from tensorflow.keras.layers import Dense, GlobalAveragePooling2D, Dropout\n",
    "from tensorflow.keras.models import Model\n",
    "from tensorflow.keras.optimizers import Adam\n",
    "from sklearn.model_selection import train_test_split"
   ]
  },
  {
   "cell_type": "code",
   "execution_count": 6,
   "metadata": {},
   "outputs": [],
   "source": [
    "# Define dataset path\n",
    "DATASET_PATH = './data/leaf_coffe_augmented'\n",
    "IMG_SIZE = 224\n",
    "BATCH_SIZE = 32\n",
    "\n",
    "# Get class names\n",
    "class_names = os.listdir(DATASET_PATH)\n",
    "NUM_CLASSES = len(class_names)\n",
    "\n",
    "# List all image paths and labels\n",
    "image_paths = []\n",
    "labels = []\n",
    "\n",
    "for i, class_name in enumerate(class_names):\n",
    "    class_path = os.path.join(DATASET_PATH, class_name)\n",
    "    for img in os.listdir(class_path):\n",
    "        image_paths.append(os.path.join(class_path, img))\n",
    "        labels.append(i)  # Assign a numeric label"
   ]
  },
  {
   "cell_type": "code",
   "execution_count": 7,
   "metadata": {},
   "outputs": [
    {
     "name": "stdout",
     "output_type": "stream",
     "text": [
      "Training set: 104999 images\n",
      "Testing set: 30000 images\n",
      "Validation set: 15000 images\n"
     ]
    }
   ],
   "source": [
    "train_paths, temp_paths, train_labels, temp_labels = train_test_split(\n",
    "    image_paths, labels, test_size=0.3, stratify=labels, random_state=42\n",
    ")\n",
    "\n",
    "# Split temp (30%) into 20% test, 10% validation\n",
    "test_paths, val_paths, test_labels, val_labels = train_test_split(\n",
    "    temp_paths, temp_labels, test_size=1/3, stratify=temp_labels, random_state=42\n",
    ")\n",
    "\n",
    "# Print dataset sizes\n",
    "print(f\"Training set: {len(train_paths)} images\")\n",
    "print(f\"Testing set: {len(test_paths)} images\")\n",
    "print(f\"Validation set: {len(val_paths)} images\")"
   ]
  },
  {
   "cell_type": "code",
   "execution_count": 9,
   "metadata": {},
   "outputs": [
    {
     "name": "stdout",
     "output_type": "stream",
     "text": [
      "Found 149999 images belonging to 5 classes.\n",
      "Found 149999 images belonging to 5 classes.\n",
      "Found 149999 images belonging to 5 classes.\n"
     ]
    }
   ],
   "source": [
    "train_datagen = ImageDataGenerator(rescale=1.0/255.0)\n",
    "test_val_datagen = ImageDataGenerator(rescale=1.0/255.0)\n",
    "\n",
    "# Training generator (70%)\n",
    "train_generator = train_datagen.flow_from_directory(\n",
    "    DATASET_PATH,\n",
    "    target_size=(IMG_SIZE, IMG_SIZE),\n",
    "    batch_size=BATCH_SIZE,\n",
    "    class_mode=\"categorical\",\n",
    "    subset=None  # No predefined subset, using custom split\n",
    ")\n",
    "\n",
    "# Test generator (20%)\n",
    "test_generator = test_val_datagen.flow_from_directory(\n",
    "    DATASET_PATH,\n",
    "    target_size=(IMG_SIZE, IMG_SIZE),\n",
    "    batch_size=BATCH_SIZE,\n",
    "    class_mode=\"categorical\",\n",
    "    subset=None,\n",
    "    shuffle=False\n",
    ")\n",
    "\n",
    "# Validation generator (10%)\n",
    "val_generator = test_val_datagen.flow_from_directory(\n",
    "    DATASET_PATH,\n",
    "    target_size=(IMG_SIZE, IMG_SIZE),\n",
    "    batch_size=BATCH_SIZE,\n",
    "    class_mode=\"categorical\",\n",
    "    subset=None,\n",
    "    shuffle=False\n",
    ")"
   ]
  },
  {
   "cell_type": "code",
   "execution_count": 10,
   "metadata": {},
   "outputs": [
    {
     "name": "stdout",
     "output_type": "stream",
     "text": [
      "WARNING:tensorflow:From d:\\Enviroment\\computer_vision\\Lib\\site-packages\\keras\\src\\backend.py:1398: The name tf.executing_eagerly_outside_functions is deprecated. Please use tf.compat.v1.executing_eagerly_outside_functions instead.\n",
      "\n",
      "WARNING:tensorflow:From d:\\Enviroment\\computer_vision\\Lib\\site-packages\\keras\\src\\layers\\normalization\\batch_normalization.py:979: The name tf.nn.fused_batch_norm is deprecated. Please use tf.compat.v1.nn.fused_batch_norm instead.\n",
      "\n",
      "Epoch 1/3\n",
      "WARNING:tensorflow:From d:\\Enviroment\\computer_vision\\Lib\\site-packages\\keras\\src\\utils\\tf_utils.py:492: The name tf.ragged.RaggedTensorValue is deprecated. Please use tf.compat.v1.ragged.RaggedTensorValue instead.\n",
      "\n",
      "WARNING:tensorflow:From d:\\Enviroment\\computer_vision\\Lib\\site-packages\\keras\\src\\engine\\base_layer_utils.py:384: The name tf.executing_eagerly_outside_functions is deprecated. Please use tf.compat.v1.executing_eagerly_outside_functions instead.\n",
      "\n",
      "4688/4688 [==============================] - 5262s 1s/step - loss: 0.1568 - accuracy: 0.9424 - val_loss: 0.1004 - val_accuracy: 0.9609\n",
      "Epoch 2/3\n",
      "4688/4688 [==============================] - 4703s 1s/step - loss: 0.0980 - accuracy: 0.9642 - val_loss: 0.0652 - val_accuracy: 0.9752\n",
      "Epoch 3/3\n",
      "4688/4688 [==============================] - 4359s 930ms/step - loss: 0.0818 - accuracy: 0.9701 - val_loss: 0.0476 - val_accuracy: 0.9828\n"
     ]
    }
   ],
   "source": [
    "base_model = MobileNetV2(input_shape=(IMG_SIZE, IMG_SIZE, 3), include_top=False, weights=\"imagenet\")\n",
    "base_model.trainable = False  # Freeze base layers\n",
    "\n",
    "# Add Custom Layers\n",
    "x = base_model.output\n",
    "x = GlobalAveragePooling2D()(x)\n",
    "x = Dense(128, activation=\"relu\")(x)\n",
    "x = Dropout(0.3)(x)\n",
    "output_layer = Dense(NUM_CLASSES, activation=\"softmax\")(x)\n",
    "\n",
    "# Create Model\n",
    "model = Model(inputs=base_model.input, outputs=output_layer)\n",
    "\n",
    "# Compile Model\n",
    "model.compile(\n",
    "    optimizer=Adam(learning_rate=0.001),\n",
    "    loss=\"categorical_crossentropy\",\n",
    "    metrics=[\"accuracy\"]\n",
    ")\n",
    "\n",
    "# Train Model\n",
    "history = model.fit(\n",
    "    train_generator,\n",
    "    validation_data=val_generator,\n",
    "    epochs=3\n",
    ")"
   ]
  }
 ],
 "metadata": {
  "kernelspec": {
   "display_name": "Python 3",
   "language": "python",
   "name": "python3"
  },
  "language_info": {
   "codemirror_mode": {
    "name": "ipython",
    "version": 3
   },
   "file_extension": ".py",
   "mimetype": "text/x-python",
   "name": "python",
   "nbconvert_exporter": "python",
   "pygments_lexer": "ipython3",
   "version": "3.11.10"
  }
 },
 "nbformat": 4,
 "nbformat_minor": 2
}
