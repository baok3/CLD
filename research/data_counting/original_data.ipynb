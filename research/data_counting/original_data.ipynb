{
 "cells": [
  {
   "cell_type": "code",
   "execution_count": 1,
   "metadata": {},
   "outputs": [
    {
     "name": "stdout",
     "output_type": "stream",
     "text": [
      "ORIGINAL DATASET:\n",
      "  Class 'Cerscospora': 7681 images\n",
      "  Class 'Healthy': 18984 images\n",
      "  Class 'Leaf rust': 8336 images\n",
      "  Class 'Miner': 16978 images\n",
      "  Class 'Phoma': 6571 images\n"
     ]
    }
   ],
   "source": [
    "import os\n",
    "\n",
    "# Path to your original dataset (before splitting)\n",
    "dataset_path = r\"E:\\CLD_project\\CLD_dataset\"\n",
    "\n",
    "# Dictionary to store image counts\n",
    "image_counts = {}\n",
    "\n",
    "# Loop through class folders\n",
    "for cls in os.listdir(dataset_path):\n",
    "    class_folder = os.path.join(dataset_path, cls)\n",
    "    if os.path.isdir(class_folder):\n",
    "        image_counts[cls] = len([f for f in os.listdir(class_folder) if f.lower().endswith(('.png', '.jpg', '.jpeg'))])\n",
    "\n",
    "# Print results\n",
    "print(\"ORIGINAL DATASET:\")\n",
    "for cls, count in image_counts.items():\n",
    "    print(f\"  Class '{cls}': {count} images\")\n"
   ]
  },
  {
   "cell_type": "code",
   "execution_count": 1,
   "metadata": {},
   "outputs": [
    {
     "name": "stdout",
     "output_type": "stream",
     "text": [
      "\n",
      "DATASET SPLIT COUNTS:\n",
      "\n",
      "TRAIN SET:\n",
      "  Class 'Cerscospora': 6144 images\n",
      "  Class 'Healthy': 15187 images\n",
      "  Class 'Leaf rust': 6668 images\n",
      "  Class 'Miner': 13582 images\n",
      "  Class 'Phoma': 5256 images\n",
      "\n",
      "VAL SET:\n",
      "  Class 'Cerscospora': 768 images\n",
      "  Class 'Healthy': 1898 images\n",
      "  Class 'Leaf rust': 833 images\n",
      "  Class 'Miner': 1697 images\n",
      "  Class 'Phoma': 657 images\n",
      "\n",
      "TEST SET:\n",
      "  Class 'Cerscospora': 769 images\n",
      "  Class 'Healthy': 1899 images\n",
      "  Class 'Leaf rust': 835 images\n",
      "  Class 'Miner': 1699 images\n",
      "  Class 'Phoma': 658 images\n"
     ]
    }
   ],
   "source": [
    "import os\n",
    "\n",
    "# Path to your dataset after splitting\n",
    "dataset_path = r\"E:\\CLD_project\\CLD_dataset_split\"\n",
    "\n",
    "# Subfolders representing train, val, and test sets\n",
    "splits = [\"train\", \"val\", \"test\"]\n",
    "\n",
    "# Dictionary to store counts\n",
    "split_counts = {split: {} for split in splits}\n",
    "\n",
    "# Loop through train, val, and test sets\n",
    "for split in splits:\n",
    "    split_folder = os.path.join(dataset_path, split)\n",
    "    \n",
    "    if not os.path.exists(split_folder):\n",
    "        print(f\"Warning: {split_folder} does not exist!\")\n",
    "        continue\n",
    "    \n",
    "    for cls in os.listdir(split_folder):\n",
    "        class_folder = os.path.join(split_folder, cls)\n",
    "        if os.path.isdir(class_folder):\n",
    "            split_counts[split][cls] = len([\n",
    "                f for f in os.listdir(class_folder) if f.lower().endswith(('.png', '.jpg', '.jpeg'))\n",
    "            ])\n",
    "\n",
    "# Print results\n",
    "print(\"\\nDATASET SPLIT COUNTS:\")\n",
    "for split in splits:\n",
    "    print(f\"\\n{split.upper()} SET:\")\n",
    "    for cls, count in split_counts[split].items():\n",
    "        print(f\"  Class '{cls}': {count} images\")\n"
   ]
  },
  {
   "cell_type": "code",
   "execution_count": 2,
   "metadata": {},
   "outputs": [
    {
     "name": "stdout",
     "output_type": "stream",
     "text": [
      "\n",
      "TOTAL IMAGE COUNTS:\n",
      "  TRAIN set: 46837 images\n",
      "  VAL set: 5853 images\n",
      "  TEST set: 5860 images\n"
     ]
    }
   ],
   "source": [
    "import os\n",
    "\n",
    "# Path to your dataset after splitting\n",
    "dataset_path = r\"E:\\CLD_project\\CLD_dataset_split\"\n",
    "\n",
    "# Subfolders representing train, val, and test sets\n",
    "splits = [\"train\", \"val\", \"test\"]\n",
    "\n",
    "# Dictionary to store total image counts per split\n",
    "total_counts = {split: 0 for split in splits}\n",
    "\n",
    "# Loop through train, val, and test sets\n",
    "for split in splits:\n",
    "    split_folder = os.path.join(dataset_path, split)\n",
    "    \n",
    "    if not os.path.exists(split_folder):\n",
    "        print(f\"Warning: {split_folder} does not exist!\")\n",
    "        continue\n",
    "    \n",
    "    for cls in os.listdir(split_folder):\n",
    "        class_folder = os.path.join(split_folder, cls)\n",
    "        if os.path.isdir(class_folder):\n",
    "            total_counts[split] += len([\n",
    "                f for f in os.listdir(class_folder) if f.lower().endswith(('.png', '.jpg', '.jpeg'))\n",
    "            ])\n",
    "\n",
    "# Print results\n",
    "print(\"\\nTOTAL IMAGE COUNTS:\")\n",
    "for split, count in total_counts.items():\n",
    "    print(f\"  {split.upper()} set: {count} images\")\n"
   ]
  }
 ],
 "metadata": {
  "kernelspec": {
   "display_name": "coffe_leaf_project",
   "language": "python",
   "name": "python3"
  },
  "language_info": {
   "codemirror_mode": {
    "name": "ipython",
    "version": 3
   },
   "file_extension": ".py",
   "mimetype": "text/x-python",
   "name": "python",
   "nbconvert_exporter": "python",
   "pygments_lexer": "ipython3",
   "version": "3.9.21"
  }
 },
 "nbformat": 4,
 "nbformat_minor": 2
}
