{
 "cells": [
  {
   "cell_type": "code",
   "execution_count": 1,
   "metadata": {},
   "outputs": [
    {
     "name": "stdout",
     "output_type": "stream",
     "text": [
      "Dataset split complete!\n"
     ]
    }
   ],
   "source": [
    "import os\n",
    "import shutil\n",
    "import random\n",
    "\n",
    "# Define paths\n",
    "dataset_path = \"E:/CLD_project/rare_disease\"  # Update this path\n",
    "output_path = \"E:/CLD_project/data_split_rare_disease\"\n",
    "\n",
    "# Define splits\n",
    "splits = {'train': 20, 'val': 5, 'test': 5}\n",
    "\n",
    "# Create output directories\n",
    "for split in splits.keys():\n",
    "    for class_name in os.listdir(dataset_path):\n",
    "        os.makedirs(os.path.join(output_path, split, class_name), exist_ok=True)\n",
    "\n",
    "# Split data\n",
    "for class_name in os.listdir(dataset_path):\n",
    "    class_path = os.path.join(dataset_path, class_name)\n",
    "    images = os.listdir(class_path)\n",
    "    random.shuffle(images)  # Shuffle images to ensure randomness\n",
    "\n",
    "    train, val, test = images[:20], images[20:25], images[25:30]\n",
    "\n",
    "    # Move images to respective folders\n",
    "    for img in train:\n",
    "        shutil.copy(os.path.join(class_path, img), os.path.join(output_path, \"train\", class_name, img))\n",
    "    for img in val:\n",
    "        shutil.copy(os.path.join(class_path, img), os.path.join(output_path, \"val\", class_name, img))\n",
    "    for img in test:\n",
    "        shutil.copy(os.path.join(class_path, img), os.path.join(output_path, \"test\", class_name, img))\n",
    "\n",
    "print(\"Dataset split complete!\")\n"
   ]
  },
  {
   "cell_type": "code",
   "execution_count": 2,
   "metadata": {},
   "outputs": [
    {
     "name": "stdout",
     "output_type": "stream",
     "text": [
      "Dataset split complete! Only JPG files were processed.\n"
     ]
    }
   ],
   "source": [
    "import os\n",
    "import shutil\n",
    "import random\n",
    "\n",
    "# Define paths\n",
    "dataset_path = \"E:/CLD_project/rare_disease\"  # Update this path\n",
    "output_path = \"E:/CLD_project/data_split_rare_disease\"\n",
    "\n",
    "# Define splits\n",
    "splits = {'train': 20, 'val': 5, 'test': 5}\n",
    "\n",
    "# Create output directories\n",
    "for split in splits.keys():\n",
    "    for class_name in os.listdir(dataset_path):\n",
    "        os.makedirs(os.path.join(output_path, split, class_name), exist_ok=True)\n",
    "\n",
    "# Split data\n",
    "for class_name in os.listdir(dataset_path):\n",
    "    class_path = os.path.join(dataset_path, class_name)\n",
    "    \n",
    "    # Get only .jpg files\n",
    "    images = [f for f in os.listdir(class_path) if f.endswith('.jpg')]\n",
    "    random.shuffle(images)  # Shuffle images for randomness\n",
    "\n",
    "    # Assign images to splits\n",
    "    train, val, test = images[:20], images[20:25], images[25:30]\n",
    "\n",
    "    # Move images to respective folders\n",
    "    for img in train:\n",
    "        shutil.copy(os.path.join(class_path, img), os.path.join(output_path, \"train\", class_name, img))\n",
    "    for img in val:\n",
    "        shutil.copy(os.path.join(class_path, img), os.path.join(output_path, \"val\", class_name, img))\n",
    "    for img in test:\n",
    "        shutil.copy(os.path.join(class_path, img), os.path.join(output_path, \"test\", class_name, img))\n",
    "\n",
    "print(\"Dataset split complete! Only JPG files were processed.\")\n"
   ]
  }
 ],
 "metadata": {
  "kernelspec": {
   "display_name": "coffe_leaf_project",
   "language": "python",
   "name": "python3"
  },
  "language_info": {
   "codemirror_mode": {
    "name": "ipython",
    "version": 3
   },
   "file_extension": ".py",
   "mimetype": "text/x-python",
   "name": "python",
   "nbconvert_exporter": "python",
   "pygments_lexer": "ipython3",
   "version": "3.9.21"
  }
 },
 "nbformat": 4,
 "nbformat_minor": 2
}
