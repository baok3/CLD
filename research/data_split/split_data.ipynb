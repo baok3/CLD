{
 "cells": [
  {
   "cell_type": "code",
   "execution_count": 1,
   "metadata": {},
   "outputs": [
    {
     "name": "stdout",
     "output_type": "stream",
     "text": [
      "Dataset successfully split into train, val, and test folders.\n"
     ]
    }
   ],
   "source": [
    "import os\n",
    "import shutil\n",
    "import random\n",
    "\n",
    "# Define paths\n",
    "dataset_path = r\"E:\\CLD_project\\CLD_dataset\"  # Update this to your dataset path\n",
    "output_path = r\"E:\\CLD_project\\CLD_dataset_split\"  # Where the split dataset will be saved\n",
    "\n",
    "# Set split ratios\n",
    "train_ratio = 0.8\n",
    "val_ratio = 0.1\n",
    "test_ratio = 0.1\n",
    "\n",
    "# Create train, val, and test folders\n",
    "for split in ['train', 'val', 'test']:\n",
    "    split_path = os.path.join(output_path, split)\n",
    "    os.makedirs(split_path, exist_ok=True)\n",
    "\n",
    "# Process each class separately\n",
    "for class_name in os.listdir(dataset_path):\n",
    "    class_path = os.path.join(dataset_path, class_name)\n",
    "    \n",
    "    if not os.path.isdir(class_path):\n",
    "        continue  # Skip non-folder files\n",
    "    \n",
    "    images = [img for img in os.listdir(class_path) if img.endswith(('.jpg', '.png', '.jpeg'))]\n",
    "    random.shuffle(images)  # Shuffle to randomize the split\n",
    "    \n",
    "    # Compute split indices\n",
    "    train_idx = int(len(images) * train_ratio)\n",
    "    val_idx = train_idx + int(len(images) * val_ratio)\n",
    "    \n",
    "    # Split into train, val, test\n",
    "    train_images = images[:train_idx]\n",
    "    val_images = images[train_idx:val_idx]\n",
    "    test_images = images[val_idx:]\n",
    "    \n",
    "    # Copy images to respective folders\n",
    "    for split_name, split_images in zip(['train', 'val', 'test'], [train_images, val_images, test_images]):\n",
    "        split_class_path = os.path.join(output_path, split_name, class_name)\n",
    "        os.makedirs(split_class_path, exist_ok=True)\n",
    "        \n",
    "        for image in split_images:\n",
    "            src = os.path.join(class_path, image)\n",
    "            dst = os.path.join(split_class_path, image)\n",
    "            shutil.copy2(src, dst)\n",
    "\n",
    "print(\"Dataset successfully split into train, val, and test folders.\")\n"
   ]
  }
 ],
 "metadata": {
  "kernelspec": {
   "display_name": "coffe_leaf_project",
   "language": "python",
   "name": "python3"
  },
  "language_info": {
   "codemirror_mode": {
    "name": "ipython",
    "version": 3
   },
   "file_extension": ".py",
   "mimetype": "text/x-python",
   "name": "python",
   "nbconvert_exporter": "python",
   "pygments_lexer": "ipython3",
   "version": "3.9.21"
  }
 },
 "nbformat": 4,
 "nbformat_minor": 2
}
