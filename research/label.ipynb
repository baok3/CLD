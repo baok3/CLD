{
 "cells": [
  {
   "cell_type": "code",
   "execution_count": 2,
   "metadata": {},
   "outputs": [],
   "source": [
    "import os\n",
    "import pandas as pd"
   ]
  },
  {
   "cell_type": "code",
   "execution_count": 8,
   "metadata": {},
   "outputs": [],
   "source": [
    "def label_image():\n",
    "    \"\"\"Tạo các thư mục nếu chưa tồn tại và đánh label bằng cách file csv (train.csv, test.csv và val.csv)\"\"\"\n",
    "    base_dir = './data/pink_disease_images'\n",
    "    dirs = ['train/image', 'test/image', 'val/image']\n",
    "    \n",
    "    # Tạo thư mục nếu chưa tồn tại\n",
    "    for dir in dirs:\n",
    "        os.makedirs(os.path.join(base_dir, dir), exist_ok=True)\n",
    "    \n",
    "    # Tạo file csv cho từng tập dữ liệu\n",
    "    for split in ['train', 'test', 'val']:\n",
    "        image_dir = os.path.join(base_dir, f'{split}/image')\n",
    "        csv_path = os.path.join(base_dir, f'{split}.csv')\n",
    "        \n",
    "        # Lấy danh sách ảnh và sắp xếp theo tên file\n",
    "        images = [f for f in os.listdir(image_dir) if f.endswith(('.jpg', '.png', '.jpeg'))]\n",
    "        \n",
    "        # Sắp xếp theo số trong tên file\n",
    "        images.sort(key=lambda x: int(''.join(filter(str.isdigit, x))))\n",
    "        \n",
    "        # Tạo DataFrame với cột image_name và label\n",
    "        df = pd.DataFrame({\n",
    "            'image_name': images,\n",
    "            'label': 'pink_disease'  # Gán nhãn mặc định là 'pink_disease'\n",
    "        })\n",
    "        \n",
    "        # Lưu DataFrame thành file csv\n",
    "        df.to_csv(csv_path, index=False)\n",
    "\n",
    "label_image()"
   ]
  }
 ],
 "metadata": {
  "kernelspec": {
   "display_name": "Python 3",
   "language": "python",
   "name": "python3"
  },
  "language_info": {
   "codemirror_mode": {
    "name": "ipython",
    "version": 3
   },
   "file_extension": ".py",
   "mimetype": "text/x-python",
   "name": "python",
   "nbconvert_exporter": "python",
   "pygments_lexer": "ipython3",
   "version": "3.11.10"
  }
 },
 "nbformat": 4,
 "nbformat_minor": 2
}
