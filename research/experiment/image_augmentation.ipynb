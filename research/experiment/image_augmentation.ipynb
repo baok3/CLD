{
  "cells": [
    {
      "cell_type": "code",
      "execution_count": 1,
      "metadata": {
        "colab": {
          "base_uri": "https://localhost:8080/"
        },
        "id": "35BZg5vwpj5J",
        "outputId": "8a110d38-92c6-41b4-b321-1823a5ac4395"
      },
      "outputs": [
        {
          "name": "stdout",
          "output_type": "stream",
          "text": [
            "Classes: ['Cerscospora', 'Healthy', 'Leaf rust', 'Miner', 'Phoma']\n",
            "Class 'Cerscospora' contains 7681 images.\n",
            "Class 'Healthy' contains 18984 images.\n",
            "Class 'Leaf rust' contains 8336 images.\n",
            "Class 'Miner' contains 16978 images.\n",
            "Class 'Phoma' contains 6571 images.\n"
          ]
        }
      ],
      "source": [
        "import os\n",
        "\n",
        "# Check extracted data structure\n",
        "dataset_dir = './data/leaf_coffe_dataset/'\n",
        "classes = os.listdir(dataset_dir)\n",
        "\n",
        "print(\"Classes:\", classes)\n",
        "for cls in classes:\n",
        "    class_path = os.path.join(dataset_dir, cls)\n",
        "    print(f\"Class '{cls}' contains {len(os.listdir(class_path))} images.\")"
      ]
    },
    {
      "cell_type": "code",
      "execution_count": null,
      "metadata": {
        "colab": {
          "base_uri": "https://localhost:8080/"
        },
        "id": "_-15OFg0pq3I",
        "outputId": "7eb3a98b-ace1-44c4-e897-4da77e6d9f6b"
      },
      "outputs": [
        {
          "name": "stdout",
          "output_type": "stream",
          "text": [
            "Processing class 'Cerscospora'...\n",
            "🔹 Found 7681 original images.\n",
            "🔹 Generating 22319 augmented images.\n",
            "✅ Class 'Cerscospora' now contains 30,000 images.\n",
            "Processing class 'Healthy'...\n",
            "🔹 Found 18984 original images.\n",
            "🔹 Generating 11016 augmented images.\n",
            "✅ Class 'Healthy' now contains 30,000 images.\n",
            "Processing class 'Leaf rust'...\n",
            "🔹 Found 8336 original images.\n"
          ]
        }
      ],
      "source": [
        "import os\n",
        "import cv2\n",
        "import numpy as np\n",
        "import tensorflow as tf\n",
        "import random\n",
        "\n",
        "# Paths\n",
        "input_dir = './data/leaf_coffe_dataset/'  # Original dataset\n",
        "output_dir = './data/leaf_coffe_augmented/'  # Augmented dataset\n",
        "os.makedirs(output_dir, exist_ok=True)\n",
        "\n",
        "# Target number of images per class\n",
        "TARGET_IMAGES = 30000\n",
        "\n",
        "# Augmentation functions\n",
        "def augment_brightness(image):\n",
        "    return tf.image.random_brightness(image, max_delta=0.05)  # Reduce brightness range\n",
        "\n",
        "def augment_contrast(image):\n",
        "    return tf.image.random_contrast(image, lower=0.97, upper=1.03)  # Subtle contrast change\n",
        "\n",
        "def augment_flip(image):\n",
        "    return tf.image.flip_left_right(image)\n",
        "\n",
        "def augment_rotate(image):\n",
        "    \"\"\"Rotate image by a small random angle.\"\"\"\n",
        "    h, w, _ = image.shape\n",
        "    angle = np.random.uniform(-15, 15)  # Smaller rotation range\n",
        "    M = cv2.getRotationMatrix2D((w/2, h/2), angle, 1)\n",
        "    return cv2.warpAffine(image, M, (w, h), borderMode=cv2.BORDER_REFLECT_101)\n",
        "\n",
        "def augment_shift(image):\n",
        "    \"\"\"Apply small translation shift.\"\"\"\n",
        "    h, w, _ = image.shape\n",
        "    w_shift = np.random.uniform(-0.1, 0.1) * w  # Reduced shift range\n",
        "    h_shift = np.random.uniform(-0.1, 0.1) * h\n",
        "    M_shift = np.float32([[1, 0, w_shift], [0, 1, h_shift]])\n",
        "    return cv2.warpAffine(image, M_shift, (w, h), borderMode=cv2.BORDER_REFLECT_101)\n",
        "\n",
        "def augment_zoom(image):\n",
        "    \"\"\"Apply slight zoom in or out.\"\"\"\n",
        "    zoom_factor = np.random.uniform(0.9, 1.1)  # Reduce zoom range\n",
        "    new_size = int(224 * zoom_factor)\n",
        "    image = cv2.resize(image, (new_size, new_size))\n",
        "    return cv2.resize(image, (224, 224))\n",
        "\n",
        "def augment_cover_part(image):\n",
        "    \"\"\"Randomly covers a part of the image with a black square.\"\"\"\n",
        "    h, w, _ = image.shape\n",
        "    mask_size = random.randint(int(h * 0.1), int(h * 0.25))  # Random mask size (10%-25% of image)\n",
        "\n",
        "    x = random.randint(0, w - mask_size)\n",
        "    y = random.randint(0, h - mask_size)\n",
        "\n",
        "    image[y:y+mask_size, x:x+mask_size, :] = 0  # Black patch\n",
        "    return image\n",
        "\n",
        "# Augmentation techniques\n",
        "AUGMENTATIONS = [\n",
        "    augment_brightness, augment_contrast, augment_flip,\n",
        "    augment_rotate, augment_shift, augment_zoom, augment_cover_part\n",
        "]\n",
        "\n",
        "# Process each class\n",
        "for class_name in os.listdir(input_dir):\n",
        "    class_input_path = os.path.join(input_dir, class_name)\n",
        "    class_output_path = os.path.join(output_dir, class_name)\n",
        "    os.makedirs(class_output_path, exist_ok=True)\n",
        "\n",
        "    print(f\"Processing class '{class_name}'...\")\n",
        "\n",
        "    # Read images\n",
        "    images = os.listdir(class_input_path)\n",
        "    num_original = len(images)\n",
        "\n",
        "    if num_original == 0:\n",
        "        print(f\"⚠️ Skipping '{class_name}' (no images found).\")\n",
        "        continue\n",
        "\n",
        "    print(f\"🔹 Found {num_original} original images.\")\n",
        "\n",
        "    # Copy original images\n",
        "    for image_name in images:\n",
        "        image_path = os.path.join(class_input_path, image_name)\n",
        "        image = cv2.imread(image_path)\n",
        "        if image is None:\n",
        "            continue  # Skip broken images\n",
        "        image = cv2.cvtColor(image, cv2.COLOR_BGR2RGB)  # Convert to RGB\n",
        "        image = cv2.resize(image, (224, 224))  # Resize\n",
        "\n",
        "        # Save original image\n",
        "        save_path = os.path.join(class_output_path, f\"orig_{image_name}\")\n",
        "        cv2.imwrite(save_path, cv2.cvtColor(image, cv2.COLOR_RGB2BGR))\n",
        "\n",
        "    # Calculate how many augmented images are needed\n",
        "    num_needed = TARGET_IMAGES - num_original\n",
        "    print(f\"🔹 Generating {num_needed} augmented images.\")\n",
        "\n",
        "    # Augment images\n",
        "    aug_count = 0\n",
        "    while aug_count < num_needed:\n",
        "        for image_name in images:\n",
        "            image_path = os.path.join(class_input_path, image_name)\n",
        "            image = cv2.imread(image_path)\n",
        "            if image is None:\n",
        "                continue\n",
        "            image = cv2.cvtColor(image, cv2.COLOR_BGR2RGB)\n",
        "            image = cv2.resize(image, (224, 224))\n",
        "\n",
        "            # Select 1 to 3 random augmentations\n",
        "            num_augmentations = random.randint(1, 3)\n",
        "            chosen_augmentations = random.sample(AUGMENTATIONS, num_augmentations)\n",
        "\n",
        "            # Apply augmentations\n",
        "            aug_image = image.astype(np.float32) / 255.0  # Normalize\n",
        "            for aug_func in chosen_augmentations:\n",
        "                if aug_func in [augment_brightness, augment_contrast, augment_flip]:\n",
        "                    aug_image = tf.convert_to_tensor(aug_image, dtype=tf.float32)\n",
        "                    aug_image = aug_func(aug_image)\n",
        "                    aug_image = tf.image.convert_image_dtype(aug_image, tf.uint8).numpy()\n",
        "                else:\n",
        "                    aug_image = (aug_func(aug_image * 255)).astype(np.uint8) / 255.0  # Convert safely\n",
        "\n",
        "            aug_image = (aug_image * 255).astype(np.uint8)  # Convert back to 0-255\n",
        "\n",
        "            save_path = os.path.join(class_output_path, f\"aug_{aug_count}_{image_name}\")\n",
        "            cv2.imwrite(save_path, cv2.cvtColor(aug_image, cv2.COLOR_RGB2BGR))\n",
        "\n",
        "            aug_count += 1\n",
        "            if aug_count >= num_needed:\n",
        "                break  # Stop when we reach 30,000\n",
        "\n",
        "    print(f\"✅ Class '{class_name}' now contains 30,000 images.\")\n",
        "\n",
        "print(\"🎉 Data augmentation complete!\")"
      ]
    },
    {
      "cell_type": "code",
      "execution_count": 3,
      "metadata": {
        "colab": {
          "base_uri": "https://localhost:8080/",
          "height": 789
        },
        "id": "iMgJP3YvcSEA",
        "outputId": "4544a4db-5a1d-450d-ccb0-6be01bb8d6af"
      },
      "outputs": [
        {
          "ename": "FileNotFoundError",
          "evalue": "[WinError 3] The system cannot find the path specified: './data/leaf_coffe_augmented\\\\Cerscospora'",
          "output_type": "error",
          "traceback": [
            "\u001b[1;31m---------------------------------------------------------------------------\u001b[0m",
            "\u001b[1;31mFileNotFoundError\u001b[0m                         Traceback (most recent call last)",
            "Cell \u001b[1;32mIn[3], line 8\u001b[0m\n\u001b[0;32m      6\u001b[0m \u001b[38;5;28;01mfor\u001b[39;00m \u001b[38;5;28mcls\u001b[39m \u001b[38;5;129;01min\u001b[39;00m classes:\n\u001b[0;32m      7\u001b[0m     class_path \u001b[38;5;241m=\u001b[39m os\u001b[38;5;241m.\u001b[39mpath\u001b[38;5;241m.\u001b[39mjoin(dataset_dir_agumentation, \u001b[38;5;28mcls\u001b[39m)\n\u001b[1;32m----> 8\u001b[0m     sample_images \u001b[38;5;241m=\u001b[39m \u001b[43mos\u001b[49m\u001b[38;5;241;43m.\u001b[39;49m\u001b[43mlistdir\u001b[49m\u001b[43m(\u001b[49m\u001b[43mclass_path\u001b[49m\u001b[43m)\u001b[49m[:\u001b[38;5;241m5\u001b[39m]  \u001b[38;5;66;03m# Take 5 sample images\u001b[39;00m\n\u001b[0;32m      9\u001b[0m     \u001b[38;5;28mprint\u001b[39m(\u001b[38;5;124mf\u001b[39m\u001b[38;5;124m\"\u001b[39m\u001b[38;5;124mClass: \u001b[39m\u001b[38;5;132;01m{\u001b[39;00m\u001b[38;5;28mcls\u001b[39m\u001b[38;5;132;01m}\u001b[39;00m\u001b[38;5;124m\"\u001b[39m)\n\u001b[0;32m     10\u001b[0m     plt\u001b[38;5;241m.\u001b[39mfigure(figsize\u001b[38;5;241m=\u001b[39m(\u001b[38;5;241m15\u001b[39m, \u001b[38;5;241m5\u001b[39m))\n",
            "\u001b[1;31mFileNotFoundError\u001b[0m: [WinError 3] The system cannot find the path specified: './data/leaf_coffe_augmented\\\\Cerscospora'"
          ]
        }
      ],
      "source": [
        "import matplotlib.pyplot as plt\n",
        "import matplotlib.image as mpimg\n",
        "\n",
        "dataset_dir_agumentation = './data/leaf_coffe_augmented/'\n",
        "\n",
        "for cls in classes:\n",
        "    class_path = os.path.join(dataset_dir_agumentation, cls)\n",
        "    sample_images = os.listdir(class_path)[:5]  # Take 5 sample images\n",
        "    print(f\"Class: {cls}\")\n",
        "    plt.figure(figsize=(15, 5))\n",
        "    for i, img_name in enumerate(sample_images):\n",
        "        img_path = os.path.join(class_path, img_name)\n",
        "        img = mpimg.imread(img_path)\n",
        "        plt.subplot(1, 5, i + 1)\n",
        "        plt.imshow(img)\n",
        "        plt.title(cls)\n",
        "        plt.axis('off')\n",
        "    plt.show()\n",
        "\n"
      ]
    },
    {
      "cell_type": "code",
      "execution_count": null,
      "metadata": {
        "colab": {
          "base_uri": "https://localhost:8080/",
          "height": 228
        },
        "id": "SfRBBecGu0Wi",
        "outputId": "5d1fdf90-1f46-4eae-bda2-6c54f985e4df"
      },
      "outputs": [
        {
          "ename": "FileNotFoundError",
          "evalue": "[Errno 2] No such file or directory: '/content/drive/MyDrive/Leaf_coffe_augmented'",
          "output_type": "error",
          "traceback": [
            "\u001b[0;31m---------------------------------------------------------------------------\u001b[0m",
            "\u001b[0;31mFileNotFoundError\u001b[0m                         Traceback (most recent call last)",
            "\u001b[0;32m<ipython-input-1-f2a337b9296c>\u001b[0m in \u001b[0;36m<cell line: 0>\u001b[0;34m()\u001b[0m\n\u001b[1;32m      7\u001b[0m \u001b[0;34m\u001b[0m\u001b[0m\n\u001b[1;32m      8\u001b[0m \u001b[0;31m# Get class names\u001b[0m\u001b[0;34m\u001b[0m\u001b[0;34m\u001b[0m\u001b[0m\n\u001b[0;32m----> 9\u001b[0;31m \u001b[0mclasses\u001b[0m \u001b[0;34m=\u001b[0m \u001b[0mos\u001b[0m\u001b[0;34m.\u001b[0m\u001b[0mlistdir\u001b[0m\u001b[0;34m(\u001b[0m\u001b[0mdataset_dir_augmented\u001b[0m\u001b[0;34m)\u001b[0m\u001b[0;34m\u001b[0m\u001b[0;34m\u001b[0m\u001b[0m\n\u001b[0m\u001b[1;32m     10\u001b[0m \u001b[0;34m\u001b[0m\u001b[0m\n\u001b[1;32m     11\u001b[0m \u001b[0;32mfor\u001b[0m \u001b[0mcls\u001b[0m \u001b[0;32min\u001b[0m \u001b[0mclasses\u001b[0m\u001b[0;34m:\u001b[0m\u001b[0;34m\u001b[0m\u001b[0;34m\u001b[0m\u001b[0m\n",
            "\u001b[0;31mFileNotFoundError\u001b[0m: [Errno 2] No such file or directory: '/content/drive/MyDrive/Leaf_coffe_augmented'"
          ]
        }
      ],
      "source": [
        "import os\n",
        "import matplotlib.pyplot as plt\n",
        "import matplotlib.image as mpimg\n",
        "\n",
        "# Path to augmented dataset\n",
        "dataset_dir_augmented = './data/leaf_coffe_augmented/'\n",
        "\n",
        "# Get class names\n",
        "classes = os.listdir(dataset_dir_augmented)\n",
        "\n",
        "for cls in classes:\n",
        "    class_path = os.path.join(dataset_dir_augmented, cls)\n",
        "\n",
        "    # Ensure the class folder contains images and filter only augmented images\n",
        "    sample_images = [img for img in os.listdir(class_path) if img.startswith('aug_') and img.endswith(('.png', '.jpg', '.jpeg'))][:5]\n",
        "\n",
        "    if not sample_images:\n",
        "        print(f\"⚠️ No augmented images found for class: {cls}\")\n",
        "        continue\n",
        "\n",
        "    print(f\"📂 Class: {cls} (Augmented Samples)\")\n",
        "    plt.figure(figsize=(15, 5))\n",
        "\n",
        "    for i, img_name in enumerate(sample_images):\n",
        "        img_path = os.path.join(class_path, img_name)\n",
        "        img = mpimg.imread(img_path)  # Read image\n",
        "        plt.subplot(1, 5, i + 1)\n",
        "        plt.imshow(img)\n",
        "        plt.title(cls)\n",
        "        plt.axis('off')\n",
        "\n",
        "    plt.show()\n"
      ]
    }
  ],
  "metadata": {
    "accelerator": "GPU",
    "colab": {
      "gpuType": "T4",
      "provenance": []
    },
    "kernelspec": {
      "display_name": "Python 3",
      "name": "python3"
    },
    "language_info": {
      "codemirror_mode": {
        "name": "ipython",
        "version": 3
      },
      "file_extension": ".py",
      "mimetype": "text/x-python",
      "name": "python",
      "nbconvert_exporter": "python",
      "pygments_lexer": "ipython3",
      "version": "3.11.10"
    }
  },
  "nbformat": 4,
  "nbformat_minor": 0
}
