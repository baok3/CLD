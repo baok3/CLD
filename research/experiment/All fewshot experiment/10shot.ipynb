{
 "cells": [
  {
   "cell_type": "code",
   "execution_count": 1,
   "id": "5f0ff8b0",
   "metadata": {},
   "outputs": [
    {
     "name": "stdout",
     "output_type": "stream",
     "text": [
      "Using device: cuda\n"
     ]
    }
   ],
   "source": [
    "import torch\n",
    "import torch.nn as nn\n",
    "import torch.nn.functional as F\n",
    "from torchvision import models, transforms, datasets\n",
    "from torch.utils.data import DataLoader, ConcatDataset\n",
    "import random\n",
    "from sklearn.metrics import classification_report\n",
    "\n",
    "# Cấu hình thiết bị\n",
    "DEVICE = torch.device(\"cuda\" if torch.cuda.is_available() else \"cpu\")\n",
    "print(f\"Using device: {DEVICE}\")"
   ]
  },
  {
   "cell_type": "code",
   "execution_count": 2,
   "id": "5d5b78ae",
   "metadata": {},
   "outputs": [
    {
     "name": "stdout",
     "output_type": "stream",
     "text": [
      "Class 0: 300 samples\n",
      "Class 1: 300 samples\n",
      "Class 2: 300 samples\n",
      "Class 3: 300 samples\n",
      "Class 4: 300 samples\n",
      "Class 5: 20 samples\n",
      "Class 6: 20 samples\n"
     ]
    }
   ],
   "source": [
    "# Tiền xử lý dữ liệu hình ảnh\n",
    "transform = transforms.Compose([\n",
    "    transforms.Resize((224, 224)),\n",
    "    transforms.ToTensor(),\n",
    "    transforms.Normalize(mean=[0.485, 0.456, 0.406], std=[0.229, 0.224, 0.225])\n",
    "])\n",
    "\n",
    "# Load datasets\n",
    "full_dataset = datasets.ImageFolder(\"E:\\data_optimize\\\\train_fewshot\", transform)\n",
    "rare_dataset = datasets.ImageFolder(\"E:\\\\Fewshot_rare_data\\\\train\", transform)\n",
    "\n",
    "# Offset labels cho rare dataset để tránh trùng lặp\n",
    "rare_dataset.samples = [(path, label + 5) for path, label in rare_dataset.samples]\n",
    "\n",
    "# Kết hợp datasets\n",
    "combined_dataset = ConcatDataset([full_dataset, rare_dataset])\n",
    "\n",
    "# Mapping class indices\n",
    "def get_class_indices(dataset):\n",
    "    indices = {}\n",
    "    for idx, (_, label) in enumerate(dataset):\n",
    "        indices.setdefault(label, []).append(idx)\n",
    "    return indices\n",
    "\n",
    "class_indices = get_class_indices(combined_dataset)\n",
    "\n",
    "# Kiểm tra số lượng mẫu mỗi lớp\n",
    "for cls, idxs in class_indices.items():\n",
    "    print(f\"Class {cls}: {len(idxs)} samples\")"
   ]
  },
  {
   "cell_type": "code",
   "execution_count": 3,
   "id": "dd5a8cfa",
   "metadata": {},
   "outputs": [
    {
     "name": "stderr",
     "output_type": "stream",
     "text": [
      "C:\\Users\\hoang\\AppData\\Local\\Temp\\ipykernel_25796\\137167422.py:3: FutureWarning: You are using `torch.load` with `weights_only=False` (the current default value), which uses the default pickle module implicitly. It is possible to construct malicious pickle data which will execute arbitrary code during unpickling (See https://github.com/pytorch/pytorch/blob/main/SECURITY.md#untrusted-models for more details). In a future release, the default value for `weights_only` will be flipped to `True`. This limits the functions that could be executed during unpickling. Arbitrary objects will no longer be allowed to be loaded via this mode unless they are explicitly allowlisted by the user via `torch.serialization.add_safe_globals`. We recommend you start setting `weights_only=True` for any use case where you don't have full control of the loaded file. Please open an issue on GitHub for any issues related to this experimental feature.\n",
      "  model.load_state_dict(torch.load(\"E:\\Model save\\Deep_learning_model\\model\\efficientnet_coffee (1).pth\"))\n"
     ]
    },
    {
     "name": "stdout",
     "output_type": "stream",
     "text": [
      "✅ EfficientNet feature extractor loaded successfully!\n"
     ]
    }
   ],
   "source": [
    "model = models.efficientnet_b0(weights=None)\n",
    "model.classifier[1] = nn.Linear(model.classifier[1].in_features, 5)\n",
    "model.load_state_dict(torch.load(\"E:\\Model save\\Deep_learning_model\\model\\efficientnet_coffee (1).pth\"))\n",
    "\n",
    "# Loại bỏ classifier để chỉ lấy embeddings\n",
    "model.classifier[1] = nn.Identity()\n",
    "model = model.to(DEVICE).eval()\n",
    "\n",
    "print(\"✅ EfficientNet feature extractor loaded successfully!\")\n",
    "\n",
    "def create_episode(dataset, class_indices, n_way=7, n_shot=5, n_query=5):\n",
    "    selected_classes = random.sample(list(class_indices.keys()), n_way)\n",
    "    support_imgs, query_imgs, support_labels, query_labels = [], [], [], []\n",
    "\n",
    "    for new_label, class_id in enumerate(selected_classes):\n",
    "        indices = class_indices[class_id]\n",
    "        if len(indices) < n_shot + n_query:\n",
    "            continue  # Bỏ qua lớp không đủ mẫu\n",
    "        sampled_indices = random.sample(indices, n_shot + n_query)\n",
    "        support_imgs += [dataset[i][0] for i in sampled_indices[:n_shot]]\n",
    "        query_imgs += [dataset[i][0] for i in sampled_indices[n_shot:]]\n",
    "        support_labels += [new_label] * n_shot\n",
    "        query_labels += [new_label] * n_query\n",
    "\n",
    "    return (torch.stack(support_imgs).to(DEVICE),\n",
    "            torch.tensor(support_labels).to(DEVICE),\n",
    "            torch.stack(query_imgs).to(DEVICE),\n",
    "            torch.tensor(query_labels).to(DEVICE))\n",
    "\n",
    "def proto_loss(support, query, n_way, n_shot, n_query):\n",
    "    prototypes = support.view(n_way, n_shot, -1).mean(dim=1)\n",
    "    distances = torch.cdist(query, prototypes)\n",
    "    labels = torch.arange(n_way).repeat_interleave(n_query).to(DEVICE)\n",
    "    return F.cross_entropy(-distances, labels)\n",
    "\n",
    "def calculate_prototypes(model, loader):\n",
    "    model.eval()\n",
    "    embeddings, labels = [], []\n",
    "    with torch.no_grad():\n",
    "        for imgs, labs in loader:\n",
    "            imgs = imgs.to(DEVICE)\n",
    "            emb = model(imgs)\n",
    "            embeddings.append(emb.cpu())\n",
    "            labels.append(labs)\n",
    "    embeddings = torch.cat(embeddings)\n",
    "    labels = torch.cat(labels)\n",
    "\n",
    "    prototypes = []\n",
    "    for label in range(7):  # Xác nhận đủ 7 lớp\n",
    "        class_emb = embeddings[labels == label]\n",
    "        prototypes.append(class_emb.mean(dim=0) if len(class_emb) > 0 else torch.zeros(embeddings[0].shape))\n",
    "    return torch.stack(prototypes).to(DEVICE)"
   ]
  },
  {
   "cell_type": "code",
   "execution_count": 4,
   "id": "98400dd8",
   "metadata": {},
   "outputs": [
    {
     "name": "stdout",
     "output_type": "stream",
     "text": [
      "Epoch [1/10], Loss: 0.2064, Accuracy: 92.57%\n",
      "Epoch [2/10], Loss: 0.0802, Accuracy: 97.14%\n",
      "Epoch [3/10], Loss: 0.1073, Accuracy: 97.43%\n",
      "Epoch [4/10], Loss: 0.0403, Accuracy: 99.14%\n",
      "Epoch [5/10], Loss: 0.0154, Accuracy: 99.43%\n",
      "Epoch [6/10], Loss: 0.0097, Accuracy: 99.43%\n",
      "Epoch [7/10], Loss: 0.0079, Accuracy: 99.71%\n",
      "Epoch [8/10], Loss: 0.0073, Accuracy: 100.00%\n",
      "Epoch [9/10], Loss: 0.0048, Accuracy: 100.00%\n",
      "Epoch [10/10], Loss: 0.0222, Accuracy: 99.14%\n"
     ]
    }
   ],
   "source": [
    "optimizer = torch.optim.Adam(model.parameters(), lr=1e-4)\n",
    "n_epochs, episodes_per_epoch, n_way, n_shot, n_query = 10, 5, 7, 10, 10\n",
    "\n",
    "model.train()\n",
    "for epoch in range(n_epochs):\n",
    "    total_loss, total_correct, total_samples = 0, 0, 0\n",
    "\n",
    "    for _ in range(episodes_per_epoch):\n",
    "        s_imgs, s_labels, q_imgs, q_labels = create_episode(combined_dataset, class_indices, n_way, n_shot, n_query)\n",
    "        s_emb, q_emb = model(s_imgs), model(q_imgs)\n",
    "\n",
    "        loss = proto_loss(s_emb, q_emb, n_way, n_shot, n_query)\n",
    "\n",
    "        # Accuracy Calculation\n",
    "        prototypes = s_emb.view(n_way, n_shot, -1).mean(dim=1)\n",
    "        distances = torch.cdist(q_emb, prototypes)\n",
    "        preds = torch.argmin(distances, dim=1)\n",
    "        total_correct += (preds == q_labels).sum().item()\n",
    "        total_samples += q_labels.size(0)\n",
    "\n",
    "        optimizer.zero_grad()\n",
    "        loss.backward()\n",
    "        optimizer.step()\n",
    "        total_loss += loss.item()\n",
    "\n",
    "    print(f\"Epoch [{epoch+1}/{n_epochs}], Loss: {total_loss/episodes_per_epoch:.4f}, Accuracy: {total_correct/total_samples*100:.2f}%\")"
   ]
  },
  {
   "cell_type": "code",
   "execution_count": 6,
   "id": "4028eaad",
   "metadata": {},
   "outputs": [
    {
     "name": "stdout",
     "output_type": "stream",
     "text": [
      "✅ Prototypes recalculated successfully!\n",
      "              precision    recall  f1-score   support\n",
      "\n",
      " Cerscospora       0.99      1.00      1.00       300\n",
      "     Healthy       1.00      1.00      1.00       300\n",
      "   Leaf rust       1.00      1.00      1.00       300\n",
      "       Miner       0.97      1.00      0.98       300\n",
      "       Phoma       0.98      0.99      0.99       300\n",
      "    Nematode       0.90      0.92      0.91       163\n",
      "Pink disease       1.00      0.92      0.96       271\n",
      "\n",
      "    accuracy                           0.98      1934\n",
      "   macro avg       0.98      0.98      0.98      1934\n",
      "weighted avg       0.98      0.98      0.98      1934\n",
      "\n"
     ]
    }
   ],
   "source": [
    "# Tính lại prototypes sau fine-tuning\n",
    "train_loader = DataLoader(combined_dataset, batch_size=32, shuffle=False)\n",
    "prototypes = calculate_prototypes(model, train_loader)\n",
    "print(\"✅ Prototypes recalculated successfully!\")\n",
    "\n",
    "# Đánh giá trên tập test\n",
    "test_dataset = datasets.ImageFolder(\"E:\\\\CLD_project\\\\test_balanced_fewshot\", transform)\n",
    "rare_test_dataset = datasets.ImageFolder(\"E:\\\\Fewshot_rare_data\\\\test\", transform)\n",
    "rare_test_dataset.samples = [(path, label + 5) for path, label in rare_test_dataset.samples]\n",
    "\n",
    "combined_test_dataset = ConcatDataset([test_dataset, rare_test_dataset])\n",
    "test_loader = DataLoader(combined_test_dataset, batch_size=32, shuffle=False)\n",
    "\n",
    "true_labels, pred_labels = [], []\n",
    "\n",
    "model.eval()\n",
    "with torch.no_grad():\n",
    "    for imgs, labels in test_loader:\n",
    "        imgs = imgs.to(DEVICE)\n",
    "        embeddings = model(imgs)\n",
    "        distances = torch.cdist(embeddings, prototypes)\n",
    "        preds = torch.argmin(distances, dim=1)\n",
    "        true_labels.extend(labels.cpu().numpy())\n",
    "        pred_labels.extend(preds.cpu().numpy())\n",
    "\n",
    "report = classification_report(true_labels, pred_labels, target_names=[\n",
    "    'Cerscospora', 'Healthy', 'Leaf rust', 'Miner', 'Phoma', 'Nematode', 'Pink disease'], zero_division=1)\n",
    "\n",
    "print(report)"
   ]
  },
  {
   "cell_type": "code",
   "execution_count": 7,
   "id": "44ceeea3",
   "metadata": {},
   "outputs": [
    {
     "name": "stdout",
     "output_type": "stream",
     "text": [
      "              precision    recall  f1-score   support\n",
      "\n",
      " Cerscospora       0.99      1.00      1.00       300\n",
      "     Healthy       1.00      1.00      1.00       300\n",
      "   Leaf rust       1.00      1.00      1.00       300\n",
      "       Miner       0.97      1.00      0.98       300\n",
      "       Phoma       0.98      0.99      0.99       300\n",
      "    Nematode       0.90      0.92      0.91       163\n",
      "Pink disease       1.00      0.92      0.96       271\n",
      "\n",
      "    accuracy                           0.98      1934\n",
      "   macro avg       0.98      0.98      0.98      1934\n",
      "weighted avg       0.98      0.98      0.98      1934\n",
      "\n"
     ]
    },
    {
     "data": {
      "image/png": "[encoded data removed]",
      "text/plain": [
       "<Figure size 800x600 with 2 Axes>"
      ]
     },
     "metadata": {},
     "output_type": "display_data"
    }
   ],
   "source": [
    "import torch\n",
    "import numpy as np\n",
    "import matplotlib.pyplot as plt\n",
    "import seaborn as sns\n",
    "from sklearn.metrics import confusion_matrix, classification_report\n",
    "from torch.utils.data import DataLoader, ConcatDataset\n",
    "from torchvision import datasets\n",
    "class_names = ['Cerscospora', 'Healthy', 'Leaf rust', 'Miner', 'Phoma', 'Nematode', 'Pink disease']\n",
    "report = classification_report(true_labels, pred_labels, target_names=class_names, zero_division=1)\n",
    "print(report)\n",
    "\n",
    "# Plot confusion matrix\n",
    "def plot_confusion_matrix(true_labels, pred_labels, class_names):\n",
    "    conf_matrix = confusion_matrix(true_labels, pred_labels)\n",
    "    plt.figure(figsize=(8, 6))\n",
    "    sns.heatmap(conf_matrix, annot=True, fmt='d', cmap='Blues',\n",
    "                xticklabels=class_names, yticklabels=class_names)\n",
    "    plt.xlabel(\"Predicted Label\")\n",
    "    plt.ylabel(\"True Label\")\n",
    "    plt.title(\"Confusion Matrix\")\n",
    "    plt.show()\n",
    "\n",
    "# Call the function to plot\n",
    "plot_confusion_matrix(true_labels, pred_labels, class_names)"
   ]
  }
 ],
 "metadata": {
  "kernelspec": {
   "display_name": "coffe_leaf_project",
   "language": "python",
   "name": "python3"
  },
  "language_info": {
   "codemirror_mode": {
    "name": "ipython",
    "version": 3
   },
   "file_extension": ".py",
   "mimetype": "text/x-python",
   "name": "python",
   "nbconvert_exporter": "python",
   "pygments_lexer": "ipython3",
   "version": "3.9.21"
  }
 },
 "nbformat": 4,
 "nbformat_minor": 5
}
