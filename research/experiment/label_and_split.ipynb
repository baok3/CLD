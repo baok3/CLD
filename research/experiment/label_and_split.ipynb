{
 "cells": [
  {
   "cell_type": "code",
   "execution_count": 33,
   "metadata": {},
   "outputs": [
    {
     "name": "stdout",
     "output_type": "stream",
     "text": [
      "Number of images:  100\n"
     ]
    }
   ],
   "source": [
    "import cv2\n",
    "import os\n",
    "data_path = \"nematode\"\n",
    "img = 0\n",
    "\n",
    "for image in os.listdir(data_path):\n",
    "    if image.endswith(\".jpg\"):\n",
    "        # Count the number of images\n",
    "        img += 1\n",
    "print(\"Number of images: \", img)"
   ]
  },
  {
   "cell_type": "code",
   "execution_count": 26,
   "metadata": {},
   "outputs": [
    {
     "name": "stdout",
     "output_type": "stream",
     "text": [
      "Images renamed successfully\n"
     ]
    }
   ],
   "source": [
    "# Rename the images name to netomatode_1.jpg, netomatode_2.jpg, ...\n",
    "i = 1\n",
    "for image in os.listdir(data_path):\n",
    "    if image.endswith(\".jpg\"):\n",
    "        src = os.path.join(data_path, image)\n",
    "        dst = \"pink_diseas_\" + str(i) + \".jpg\"\n",
    "        dst = os.path.join(data_path, dst)\n",
    "        os.rename(src, dst)\n",
    "        i += 1\n",
    "print(\"Images renamed successfully\")"
   ]
  },
  {
   "cell_type": "code",
   "execution_count": 34,
   "metadata": {},
   "outputs": [
    {
     "name": "stdout",
     "output_type": "stream",
     "text": [
      "Number of images in train folder:  80\n",
      "Number of images in test folder:  20\n"
     ]
    }
   ],
   "source": [
    "# Split the images into 2 folders (train, test) with 80% and 20% of the images respectively then rename the images\n",
    "train_path = \"./nematode/train\"\n",
    "test_path = \"./nematode/test\"\n",
    "os.makedirs(train_path, exist_ok=True)\n",
    "os.makedirs(test_path, exist_ok=True)\n",
    "\n",
    "train_img = 0\n",
    "test_img = 0\n",
    "for image in os.listdir(data_path):\n",
    "    if image.endswith(\".jpg\"):\n",
    "        src = os.path.join(data_path, image)\n",
    "        if train_img < 0.8 * img:\n",
    "            dst = os.path.join(train_path, image)\n",
    "            os.rename(src, dst)\n",
    "            train_img += 1\n",
    "        else:\n",
    "            dst = os.path.join(test_path, image)\n",
    "            os.rename(src, dst)\n",
    "            test_img += 1\n",
    "\n",
    "print(\"Number of images in train folder: \", train_img)\n",
    "print(\"Number of images in test folder: \", test_img)"
   ]
  },
  {
   "cell_type": "code",
   "execution_count": 36,
   "metadata": {},
   "outputs": [
    {
     "name": "stdout",
     "output_type": "stream",
     "text": [
      "CSV file created successfully\n"
     ]
    }
   ],
   "source": [
    "# Create a csv file for the images in the train folder with the format: image_name, label\n",
    "import csv\n",
    "with open(\"nematode/train.csv\", \"w\", newline=\"\") as file:\n",
    "    writer = csv.writer(file)\n",
    "    writer.writerow([\"image_name\", \"label\"])\n",
    "    for image in os.listdir(test_path):\n",
    "        if image.endswith(\".jpg\"):\n",
    "            writer.writerow([image, \"pink_disease\"])\n",
    "\n",
    "print(\"CSV file created successfully\")"
   ]
  }
 ],
 "metadata": {
  "kernelspec": {
   "display_name": "Python 3",
   "language": "python",
   "name": "python3"
  },
  "language_info": {
   "codemirror_mode": {
    "name": "ipython",
    "version": 3
   },
   "file_extension": ".py",
   "mimetype": "text/x-python",
   "name": "python",
   "nbconvert_exporter": "python",
   "pygments_lexer": "ipython3",
   "version": "3.11.10"
  }
 },
 "nbformat": 4,
 "nbformat_minor": 2
}
