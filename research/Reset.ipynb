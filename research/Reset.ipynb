{
 "cells": [
  {
   "cell_type": "code",
   "execution_count": null,
   "metadata": {},
   "outputs": [],
   "source": []
  },
  {
   "cell_type": "code",
   "execution_count": 5,
   "metadata": {},
   "outputs": [
    {
     "name": "stdout",
     "output_type": "stream",
     "text": [
      "\n",
      "TRAIN SET:\n",
      "  Class 'Cerscospora': 25000 images\n",
      "  Class 'Healthy': 24999 images\n",
      "  Class 'Leaf rust': 25000 images\n",
      "  Class 'Miner': 25000 images\n",
      "  Class 'Phoma': 25000 images\n",
      "\n",
      "VAL SET:\n",
      "  Class 'Cerscospora': 5000 images\n",
      "  Class 'Healthy': 5000 images\n",
      "  Class 'Leaf rust': 5000 images\n",
      "  Class 'Miner': 5000 images\n",
      "  Class 'Phoma': 5000 images\n",
      "\n",
      "TEST SET:\n",
      "  Class 'Cerscospora': 769 images\n",
      "  Class 'Healthy': 1899 images\n",
      "  Class 'Leaf rust': 835 images\n",
      "  Class 'Miner': 1699 images\n",
      "  Class 'Phoma': 658 images\n"
     ]
    }
   ],
   "source": [
    "import os\n",
    "\n",
    "# Path to your dataset\n",
    "dataset_path = r\"E:\\CLD_project\\Final_CLD_data\"\n",
    "\n",
    "# Subdirectories for train, val, and test\n",
    "splits = ['train', 'val', 'test']\n",
    "\n",
    "# Dictionary to store image counts\n",
    "image_counts = {}\n",
    "\n",
    "for split in splits:\n",
    "    split_path = os.path.join(dataset_path, split)\n",
    "    if os.path.exists(split_path):\n",
    "        image_counts[split] = {}\n",
    "        for cls in os.listdir(split_path):\n",
    "            class_folder = os.path.join(split_path, cls)\n",
    "            if os.path.isdir(class_folder):\n",
    "                image_counts[split][cls] = len([f for f in os.listdir(class_folder) if f.lower().endswith(('.png', '.jpg', '.jpeg'))])\n",
    "\n",
    "# Print results\n",
    "for split, classes in image_counts.items():\n",
    "    print(f\"\\n{split.upper()} SET:\")\n",
    "    for cls, count in classes.items():\n",
    "        print(f\"  Class '{cls}': {count} images\")\n"
   ]
  },
  {
   "cell_type": "code",
   "execution_count": 1,
   "metadata": {},
   "outputs": [
    {
     "name": "stdout",
     "output_type": "stream",
     "text": [
      "Using device: cuda\n"
     ]
    }
   ],
   "source": [
    "import torch\n",
    "import torch.nn as nn\n",
    "import torch.optim as optim\n",
    "from torchvision import transforms, models, datasets\n",
    "from torch.utils.data import DataLoader\n",
    "from torchvision.models import ResNet50_Weights\n",
    "\n",
    "import matplotlib.pyplot as plt\n",
    "import os\n",
    "from tqdm import tqdm\n",
    "\n",
    "# ✅ Set Paths\n",
    "DATASET_PATH = \"E:\\CLD_project\\Final_CLD_data\"\n",
    "TRAIN_PATH = os.path.join(DATASET_PATH, \"train\")\n",
    "VAL_PATH = os.path.join(DATASET_PATH, \"val\")\n",
    "TEST_PATH = os.path.join(DATASET_PATH, \"test\")\n",
    "\n",
    "IMG_SIZE = 224\n",
    "BATCH_SIZE = 32\n",
    "EPOCHS = 3\n",
    "\n",
    "DEVICE = torch.device(\"cuda\" if torch.cuda.is_available() else \"cpu\")\n",
    "print(f\"Using device: {DEVICE}\")"
   ]
  },
  {
   "cell_type": "code",
   "execution_count": 2,
   "metadata": {},
   "outputs": [
    {
     "name": "stdout",
     "output_type": "stream",
     "text": [
      "Train: 124999, Validation: 25000, Test: 5860\n"
     ]
    }
   ],
   "source": [
    "transform = transforms.Compose([\n",
    "    transforms.Resize((IMG_SIZE, IMG_SIZE)),\n",
    "    transforms.ToTensor(),\n",
    "    transforms.Normalize(mean=[0.485, 0.456, 0.406], std=[0.229, 0.224, 0.225])\n",
    "])\n",
    "\n",
    "\n",
    "train_dataset = datasets.ImageFolder(TRAIN_PATH, transform=transform)\n",
    "val_dataset = datasets.ImageFolder(VAL_PATH, transform=transform)\n",
    "test_dataset = datasets.ImageFolder(TEST_PATH, transform=transform)\n",
    "\n",
    "# Create DataLoaders\n",
    "train_loader = DataLoader(train_dataset, batch_size=BATCH_SIZE, shuffle=True)\n",
    "val_loader = DataLoader(val_dataset, batch_size=BATCH_SIZE, shuffle=False)\n",
    "test_loader = DataLoader(test_dataset, batch_size=BATCH_SIZE, shuffle=False)\n",
    "\n",
    "print(f\"Train: {len(train_dataset)}, Validation: {len(val_dataset)}, Test: {len(test_dataset)}\")\n"
   ]
  },
  {
   "cell_type": "code",
   "execution_count": 3,
   "metadata": {},
   "outputs": [],
   "source": [
    "# ✅ Load Pretrained ResNet50\n",
    "model = models.resnet50(weights=ResNet50_Weights.DEFAULT)\n",
    "num_features = model.fc.in_features\n",
    "model.fc = nn.Linear(num_features, len(train_dataset.classes))  # Adjust output layer\n",
    "\n",
    "model = model.to(DEVICE)"
   ]
  },
  {
   "cell_type": "code",
   "execution_count": 4,
   "metadata": {},
   "outputs": [],
   "source": [
    "# ✅ Define Loss and Optimizer\n",
    "criterion = nn.CrossEntropyLoss()\n",
    "optimizer = optim.Adam(model.parameters(), lr=0.0001)\n",
    "\n",
    "# Lists to store metrics\n",
    "train_losses, val_losses = [], []\n",
    "train_accs, val_accs = [], []\n"
   ]
  },
  {
   "cell_type": "code",
   "execution_count": null,
   "metadata": {},
   "outputs": [],
   "source": []
  }
 ],
 "metadata": {
  "kernelspec": {
   "display_name": "coffe_leaf_project",
   "language": "python",
   "name": "python3"
  },
  "language_info": {
   "codemirror_mode": {
    "name": "ipython",
    "version": 3
   },
   "file_extension": ".py",
   "mimetype": "text/x-python",
   "name": "python",
   "nbconvert_exporter": "python",
   "pygments_lexer": "ipython3",
   "version": "3.9.21"
  }
 },
 "nbformat": 4,
 "nbformat_minor": 2
}
